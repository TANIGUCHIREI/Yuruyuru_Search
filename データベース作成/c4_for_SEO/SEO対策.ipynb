{
 "cells": [
  {
   "cell_type": "code",
   "execution_count": 4,
   "metadata": {},
   "outputs": [],
   "source": [
    "#サイトマップ作成のためのプログラムです.encodeされたタイトルからurlを作成します\n",
    "#https://kotaroito.hatenablog.com/entry/2015/08/25/150317　を見ると,サイトマップ ファイルではxmlにおいては&(アンパサンド)はエスケープする必要があるらしい...\n",
    "import os \n",
    "year_list  =os.listdir(\"../../data_for_search/main_wiki_html\")\n",
    "full_url_list = []\n",
    "for year in year_list:\n",
    "    encoded_title_list = os.listdir(f\"../../data_for_search/main_wiki_html/{year}/\")\n",
    "    # print(encoded_title_list)\n",
    "    for encoded_title in encoded_title_list:\n",
    "        encoded_title = encoded_title.replace(\".pickle\",\"\")\n",
    "        url = f\"http://yuruyuru-search.com/manga_page?title={encoded_title}&amp;year={year}\"\n",
    "        full_url_list.append(url)\n",
    "\n",
    "\n",
    "page_url=\"\"\n",
    "\n",
    "for url in full_url_list:\n",
    "    url_xml =f\"\"\"<url>\n",
    "  <loc>{url}</loc>\n",
    "  <priority>0.3</priority>\n",
    "</url>\n",
    "\"\"\"\n",
    "    page_url+=url_xml\n",
    "\n",
    "write_xml = f\"\"\"<?xml version=\"1.0\" encoding=\"UTF-8\"?>\n",
    "<urlset xmlns=\"http://www.sitemaps.org/schemas/sitemap/0.9\">\n",
    "<url>\n",
    "  <loc>http://yuruyuru-search.com/</loc>\n",
    "  <priority>1.0</priority>\n",
    "</url>\n",
    "<url>\n",
    "  <loc>http://yuruyuru-search.com/aboutsite</loc>\n",
    "  <priority>0.8</priority>\n",
    "</url>\n",
    "<url>\n",
    "  <loc>http://yuruyuru-search.com/sitepolicy</loc>\n",
    "  <priority>0.8</priority>\n",
    "</url>\n",
    "<url>\n",
    "  <loc>http://yuruyuru-search.com/contact</loc>\n",
    "  <priority>0.8</priority>\n",
    "</url>\n",
    "{page_url}\n",
    "</urlset>\n",
    "\"\"\"\n",
    "with open(\"../../app/templates/SEO/sitemap.xml\",\"w\") as f:\n",
    "    f.write(write_xml)"
   ]
  }
 ],
 "metadata": {
  "kernelspec": {
   "display_name": "Python 3",
   "language": "python",
   "name": "python3"
  },
  "language_info": {
   "codemirror_mode": {
    "name": "ipython",
    "version": 3
   },
   "file_extension": ".py",
   "mimetype": "text/x-python",
   "name": "python",
   "nbconvert_exporter": "python",
   "pygments_lexer": "ipython3",
   "version": "3.10.13"
  }
 },
 "nbformat": 4,
 "nbformat_minor": 2
}
