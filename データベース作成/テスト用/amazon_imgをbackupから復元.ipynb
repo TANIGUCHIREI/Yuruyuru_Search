{
 "cells": [
  {
   "cell_type": "code",
   "execution_count": 13,
   "metadata": {},
   "outputs": [],
   "source": [
    "#backupしたinfo_for_search_dict_backup.pickleからamazonのurlとimgを復元します(このやり方あんまり良くないと思います・・・media_dictのデータ破壊しちゃってるから)\n",
    "import pickle\n",
    "with open(\"../../data_for_search/info_for_search_dict_backup.pickle\",\"rb\") as f:\n",
    "    info_for_search_dict_backup = pickle.load(f)\n",
    "\n",
    "with open(\"../../data_for_search/info_for_search_dict.pickle\",\"rb\") as f:\n",
    "    info_for_search_dict = pickle.load(f)\n",
    "\n",
    "for title, data in info_for_search_dict.items():\n",
    "    if title in info_for_search_dict_backup:\n",
    "        prev_data = info_for_search_dict_backup[title]\n",
    "        info_for_search_dict[title][\"media_dict\"] = prev_data[\"media_dict\"]\n",
    "        # print(prev_data[\"media_dict\"])\n",
    "        # for type in [\"manga\",\"novel\",\"anime\"]: \n",
    "        #     if prev_data[\"media_dict\"][type] !=[]:\n",
    "        #         for data in prev_data[\"media_dict\"][type]:\n",
    "        #             try:\n",
    "        #                 type_title,year,amazon_img,amazon_url = data['title'],data['year'],data['amazon_img'],data['amazon_url']\n",
    "        #             except:\n",
    "        #                 continue #なぜかamazon_img=''とだけ書かれたファイルが見つかる。createするときになにかしらミスってるっぽいなぁこれ\n",
    "        #                 # title,year,amazon_img,amazon_url = data['title'],data['year'],None,None\n",
    "        #             print(amazon_url)\n",
    "        #             info_for_search_dict[title][\"media_dict\"][type].append({\"title\":type_title,\"year\":year,\"amazon_img\":amazon_img,\"amazon_url\":amazon_url}) #imgとurlがある場合は上書き保存する\n",
    "\n",
    "with open(\"../../data_for_search/info_for_search_dict.pickle\",\"wb\") as f:\n",
    "    pickle.dump(info_for_search_dict,f)"
   ]
  },
  {
   "cell_type": "code",
   "execution_count": 24,
   "metadata": {},
   "outputs": [
    {
     "name": "stdout",
     "output_type": "stream",
     "text": [
      "{'manga': [{'title': 'ジパング (漫画)', 'year': '2000', 'amazon_img': 'https://m.media-amazon.com/images/I/71MItPXFGTL._AC_UL640_FMwebp_QL65_.jpg', 'amazon_url': 'https://www.amazon.co.jp/s?k=%E3%82%B8%E3%83%91%E3%83%B3%E3%82%B0&__mk_ja_JP=%E3%82%AB%E3%82%BF%E3%82%AB%E3%83%8A&crid=2QJU22J0HHMJ6&sprefix=%E3%82%B8%E3%83%91%E3%83%B3%E3%82%B0%2Caps%2C196&ref=nb_sb_noss_1#:~:text=%E3%82%B8%E3%83%91%E3%83%B3%E3%82%B0%EF%BC%88%EF%BC%91%EF%BC%89%20(%E3%83%A2%E3%83%BC%E3%83%8B%E3%83%B3%E3%82%B0%E3%82%B3%E3%83%9F%E3%83%83%E3%82%AF%E3%82%B9)'}], 'anime': [{'title': 'ジパング (漫画)', 'year': '2004', 'amazon_img': ''}], 'novel': []}\n"
     ]
    }
   ],
   "source": [
    "#amazonのurlを修正するためのプログラム？を作りたい\n",
    "work_title = \"ジパング (漫画)\"\n",
    "work_type = \"manga\"\n",
    "amazon_url = \"https://www.amazon.co.jp/s?k=%E3%82%B8%E3%83%91%E3%83%B3%E3%82%B0&__mk_ja_JP=%E3%82%AB%E3%82%BF%E3%82%AB%E3%83%8A&crid=2QJU22J0HHMJ6&sprefix=%E3%82%B8%E3%83%91%E3%83%B3%E3%82%B0%2Caps%2C196&ref=nb_sb_noss_1#:~:text=%E3%82%B8%E3%83%91%E3%83%B3%E3%82%B0%EF%BC%88%EF%BC%91%EF%BC%89%20(%E3%83%A2%E3%83%BC%E3%83%8B%E3%83%B3%E3%82%B0%E3%82%B3%E3%83%9F%E3%83%83%E3%82%AF%E3%82%B9)\"\n",
    "amazon_img = \"https://m.media-amazon.com/images/I/71MItPXFGTL._AC_UL640_FMwebp_QL65_.jpg\"\n",
    "\n",
    "with open(\"../../data_for_search/info_for_search_dict.pickle\",\"rb\") as f:\n",
    "    info_for_search_dict = pickle.load(f)\n",
    "\n",
    "for title, data in info_for_search_dict.items():\n",
    "    if title==work_title:\n",
    "        type_dict = data[\"media_dict\"][work_type][0] #勝手に一番はじめのものをそれとする（まぁ多分これでいいでしょう・・・）\n",
    "        info_for_search_dict[title][\"media_dict\"][work_type][0] = {\"title\":type_dict[\"title\"],\"year\":type_dict[\"year\"],\"amazon_img\":amazon_img,\"amazon_url\":amazon_url} #これで一応更新できる\n",
    "        print(info_for_search_dict[title][\"media_dict\"])\n",
    "        break\n",
    "\n",
    "with open(\"../../data_for_search/info_for_search_dict.pickle\",\"wb\") as f:\n",
    "    pickle.dump(info_for_search_dict,f)"
   ]
  }
 ],
 "metadata": {
  "kernelspec": {
   "display_name": "Python 3",
   "language": "python",
   "name": "python3"
  },
  "language_info": {
   "codemirror_mode": {
    "name": "ipython",
    "version": 3
   },
   "file_extension": ".py",
   "mimetype": "text/x-python",
   "name": "python",
   "nbconvert_exporter": "python",
   "pygments_lexer": "ipython3",
   "version": "3.10.13"
  }
 },
 "nbformat": 4,
 "nbformat_minor": 2
}
