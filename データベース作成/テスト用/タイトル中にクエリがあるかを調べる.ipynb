{
 "cells": [
  {
   "cell_type": "code",
   "execution_count": 1,
   "metadata": {},
   "outputs": [
    {
     "name": "stdout",
     "output_type": "stream",
     "text": [
      "ああああaaaa\n"
     ]
    }
   ],
   "source": [
    "a = \"ああああAAAA\".lower()\n",
    "print(a)"
   ]
  },
  {
   "cell_type": "code",
   "execution_count": 4,
   "metadata": {},
   "outputs": [
    {
     "name": "stdout",
     "output_type": "stream",
     "text": [
      "20312\n",
      "14887\n"
     ]
    }
   ],
   "source": [
    "import pickle\n",
    "with open(\"../../data_for_search/actor_list.pickle\",\"rb\") as f:\n",
    "    data = pickle.load(f)\n",
    "    print(len(data))\n",
    "\n",
    "with open(\"../../data_for_search/categories_list.pickle\",\"rb\") as f:\n",
    "    data = pickle.load(f)\n",
    "    print(len(data))"
   ]
  }
 ],
 "metadata": {
  "kernelspec": {
   "display_name": "Python 3",
   "language": "python",
   "name": "python3"
  },
  "language_info": {
   "codemirror_mode": {
    "name": "ipython",
    "version": 3
   },
   "file_extension": ".py",
   "mimetype": "text/x-python",
   "name": "python",
   "nbconvert_exporter": "python",
   "pygments_lexer": "ipython3",
   "version": "3.8.3"
  }
 },
 "nbformat": 4,
 "nbformat_minor": 2
}
