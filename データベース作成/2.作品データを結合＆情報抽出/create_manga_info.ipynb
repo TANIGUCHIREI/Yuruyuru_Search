{
 "cells": [
  {
   "cell_type": "code",
   "execution_count": 15,
   "metadata": {},
   "outputs": [],
   "source": [
    "#main_wiki_htmlとinfo_fir_searchを作成します\n",
    "import pickle,os\n",
    "import bs4\n",
    "from bs4 import BeautifulSoup\n",
    "import re\n",
    "pickle_year_lsit = os.listdir(\"../manga_wiki_html_data/\")\n",
    "title_to_page_name_dict = {}\n",
    "\n",
    "for pickle_year in pickle_year_lsit:\n",
    "    with open(f\"../manga_wiki_html_data/{pickle_year}\",\"rb\") as f:\n",
    "        load_data = pickle.load(f)\n",
    "    for title,res in load_data.items():\n",
    "        # print(res)\n",
    "        soup = BeautifulSoup(res, 'html.parser')\n",
    "        page_tilte = soup.find(\"title\").get_text().replace(\" - Wikipedia\",\"\") #こちらの方がより効率が良さそう\n",
    "        title_to_page_name_dict[title] = page_tilte \n",
    "        print(page_tilte)\n",
    "\n",
    "with open(\"../../data_for_search/title_to_page_name_dict.pickle\",\"wb\") as f:\n",
    "    pickle.dump(title_to_page_name_dict,f)"
   ]
  }
 ],
 "metadata": {
  "kernelspec": {
   "display_name": "Python 3",
   "language": "python",
   "name": "python3"
  },
  "language_info": {
   "codemirror_mode": {
    "name": "ipython",
    "version": 3
   },
   "file_extension": ".py",
   "mimetype": "text/x-python",
   "name": "python",
   "nbconvert_exporter": "python",
   "pygments_lexer": "ipython3",
   "version": "3.8.3"
  }
 },
 "nbformat": 4,
 "nbformat_minor": 2
}
