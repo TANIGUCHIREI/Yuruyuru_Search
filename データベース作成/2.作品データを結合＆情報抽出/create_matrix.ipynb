{
 "cells": [
  {
   "cell_type": "code",
   "execution_count": null,
   "metadata": {},
   "outputs": [],
   "source": [
    "#保存したhtmlを呼び出すのに必須なyearをinfoに追加していなかったのでそれを追加するようのコード\n",
    "#このコードを動作させるとinfo_for_search_dict[page_title]に page_year　が追加されます. htmlを参照するときには page_year/page_title.pickle　を参照すればよいので楽！\n",
    "import pickle\n",
    "with open(\"../../data_for_search/info_for_search_dict.pickle\",\"rb\") as f:\n",
    "    info_for_search_dict =pickle.load(f)\n",
    "\n",
    "import os\n",
    "from create_info_from_html import decode_filename\n",
    "years = os.listdir(\"../../data_for_search/main_wiki_html/\")\n",
    "page_title_and_year_dict = {}\n",
    "for year in years:\n",
    "    page_titles =  os.listdir(f\"../../data_for_search/main_wiki_html/{year}/\")\n",
    "    page_titles  = [decode_filename(page_title) for page_title in page_titles]\n",
    "    for page_title in page_titles:\n",
    "        page_title_and_year_dict[page_title.replace(\".pickle\",\"\")] = int(year)\n",
    "        # print(f\"{page_title}  {page_title_and_year_dict[page_title]}\")\n",
    "\n",
    "for page_title,data in info_for_search_dict.items():\n",
    "    info_for_search_dict[page_title][\"page_year\"] =page_title_and_year_dict[page_title] #page_yearというものを新規に追加する\n",
    "\n",
    "with open(\"../../data_for_search/info_for_search_dict.pickle\",\"wb\") as f:\n",
    "    pickle.dump(info_for_search_dict,f)"
   ]
  },
  {
   "cell_type": "code",
   "execution_count": 11,
   "metadata": {},
   "outputs": [
    {
     "name": "stdout",
     "output_type": "stream",
     "text": [
      "512\n",
      "512\n",
      "512\n"
     ]
    },
    {
     "ename": "NameError",
     "evalue": "name 'asdf' is not defined",
     "output_type": "error",
     "traceback": [
      "\u001b[1;31m---------------------------------------------------------------------------\u001b[0m",
      "\u001b[1;31mNameError\u001b[0m                                 Traceback (most recent call last)",
      "Cell \u001b[1;32mIn[11], line 19\u001b[0m\n\u001b[0;32m     16\u001b[0m \u001b[38;5;28;01mfor\u001b[39;00m r \u001b[38;5;129;01min\u001b[39;00m result:\n\u001b[0;32m     17\u001b[0m     \u001b[38;5;28mprint\u001b[39m(\u001b[38;5;28mlen\u001b[39m(r))\n\u001b[1;32m---> 19\u001b[0m \u001b[43masdf\u001b[49m\n",
      "\u001b[1;31mNameError\u001b[0m: name 'asdf' is not defined"
     ]
    }
   ],
   "source": [
    "#検索用の行列を作成します\n",
    "from create_embedding_vector_from_res import create_embedding_vector_from_res\n",
    "import bs4\n",
    "from bs4 import BeautifulSoup\n",
    "import requests\n",
    "import pickle,re,os\n",
    "with open(\"../../data_for_search/info_for_search_dict.pickle\",\"rb\") as f:\n",
    "    info_for_search_dict =pickle.load(f)\n",
    "\n",
    "for page_title,data in info_for_search_dict.items():\n",
    "    year = data[\"page_year\"]\n",
    "    with open(f\"../../data_for_search/main_wiki_html/{year}/{page_title}.pickle\",\"rb\") as f:\n",
    "        res = pickle.load(f)\n",
    "    soup = BeautifulSoup(res, 'html.parser')\n",
    "    result =  create_embedding_vector_from_res(soup)\n",
    "    for r in result:\n",
    "        print(len(r))\n",
    "    \n",
    "    asdf"
   ]
  }
 ],
 "metadata": {
  "kernelspec": {
   "display_name": "Python 3",
   "language": "python",
   "name": "python3"
  },
  "language_info": {
   "codemirror_mode": {
    "name": "ipython",
    "version": 3
   },
   "file_extension": ".py",
   "mimetype": "text/x-python",
   "name": "python",
   "nbconvert_exporter": "python",
   "pygments_lexer": "ipython3",
   "version": "3.9.6"
  }
 },
 "nbformat": 4,
 "nbformat_minor": 2
}
